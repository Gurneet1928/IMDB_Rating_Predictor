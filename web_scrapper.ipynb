{
 "cells": [
  {
   "cell_type": "code",
   "execution_count": 14,
   "id": "c0fed760",
   "metadata": {},
   "outputs": [],
   "source": [
    "from bs4 import BeautifulSoup\n",
    "import requests\n",
    "import re\n",
    "import pandas as pd\n",
    "import threading\n",
    "\n",
    "film_budget = [None] * 1000"
   ]
  },
  {
   "cell_type": "code",
   "execution_count": 15,
   "id": "c3737d7f",
   "metadata": {},
   "outputs": [],
   "source": [
    "def get_movie_budget(url,i):\n",
    "    response = requests.get(url)\n",
    "    data = BeautifulSoup(response.text,'html.parser')\n",
    "    budget = data.find('div',{'data-testid':'title-boxoffice-section'})\n",
    "    if budget is None:\n",
    "        return ('Not Found')\n",
    "    else:\n",
    "        budget = budget.find_all('label',{'class':'ipc-metadata-list-item__list-content-item'})\n",
    "        if budget is not None:\n",
    "            film_budget[i] = budget[0].text.split(' ')[0]\n",
    "    response.close()"
   ]
  },
  {
   "cell_type": "code",
   "execution_count": 16,
   "id": "9b1f14a0",
   "metadata": {},
   "outputs": [],
   "source": [
    "def get_movie_titles(data):\n",
    "    movie_title_temp = data.find_all('h3',{'class':\"lister-item-header\"})\n",
    "    movie_title = []\n",
    "    movie_link = []\n",
    "    for tag in movie_title_temp:\n",
    "        a_tag = tag.find('a').get('href')\n",
    "        a_tag = 'https://www.imdb.com' + str(a_tag)\n",
    "        movie_link.append(a_tag)\n",
    "        title = tag.find('a').text\n",
    "        movie_title.append(title)\n",
    "    return movie_title,movie_link"
   ]
  },
  {
   "cell_type": "code",
   "execution_count": 17,
   "id": "ae46e6cc",
   "metadata": {},
   "outputs": [],
   "source": [
    "def get_movie_genre(data):\n",
    "    movie_genre_temp = data.find_all('div',{'class':\"lister-item-content\"})\n",
    "    movie_genre = []\n",
    "    for detail_tag in movie_genre_temp:\n",
    "        genre_tag = detail_tag.find('span',{'class':'genre'})\n",
    "        if genre_tag:\n",
    "            movie_genre.append(genre_tag.get_text().strip())\n",
    "        else:\n",
    "            movie_genre.append('NA')\n",
    "    return movie_genre"
   ]
  },
  {
   "cell_type": "code",
   "execution_count": 18,
   "id": "2da49414",
   "metadata": {},
   "outputs": [],
   "source": [
    "def get_movie_duration(data):\n",
    "    movie_duration_temp = data.find_all('span',{'class':'runtime'})\n",
    "    movie_duration = []\n",
    "    for tag in movie_duration_temp:\n",
    "        movie_duration.append(tag.text[:-4])\n",
    "    return movie_duration"
   ]
  },
  {
   "cell_type": "code",
   "execution_count": 19,
   "id": "2572f1af",
   "metadata": {},
   "outputs": [],
   "source": [
    "def get_movie_rating(data):\n",
    "    movie_rating_temp = data.find_all('div',{'class':\"inline-block ratings-imdb-rating\"})\n",
    "    movie_rating = []\n",
    "    for tag in movie_rating_temp:\n",
    "        movie_rating.append(tag.get_text().strip())\n",
    "    return movie_rating"
   ]
  },
  {
   "cell_type": "code",
   "execution_count": 20,
   "id": "727d211d",
   "metadata": {},
   "outputs": [],
   "source": [
    "def get_movie_year(data):\n",
    "    movie_year_temp = data.find_all('span',{'class':\"lister-item-year text-muted unbold\"})\n",
    "    movie_year = []\n",
    "    for tag in movie_year_temp:\n",
    "        movie_year.append(tag.get_text().strip()[-5:-1])\n",
    "    return movie_year"
   ]
  },
  {
   "cell_type": "code",
   "execution_count": 21,
   "id": "bd706334",
   "metadata": {},
   "outputs": [],
   "source": [
    "def get_movie_cast(data):\n",
    "    movie_cast_temp = data.find_all('div',{'class':'lister-item-content'})\n",
    "    movie_cast = []\n",
    "    for tag in movie_cast_temp:\n",
    "        cast_tag_temp = tag.find_all('a')\n",
    "        cast_tag = []\n",
    "        for temp_tag in cast_tag_temp:\n",
    "            cast_tag.append(temp_tag.text)\n",
    "        movie_cast.append(cast_tag[12::])\n",
    "    return movie_cast"
   ]
  },
  {
   "cell_type": "code",
   "execution_count": 22,
   "id": "c6d8382d",
   "metadata": {},
   "outputs": [],
   "source": [
    "def get_movie_certification(data):\n",
    "    movie_cert_temp = data.find_all('div',{'class':\"lister-item-content\"})\n",
    "    movie_cert = []\n",
    "    for detail_tag in movie_cert_temp:\n",
    "        certification_tag = detail_tag.find('span',{'class':'certificate'})\n",
    "        if certification_tag:\n",
    "            movie_cert.append(certification_tag.text)\n",
    "        else:\n",
    "            movie_cert.append('NA')\n",
    "    return movie_cert"
   ]
  },
  {
   "cell_type": "code",
   "execution_count": 23,
   "id": "1c75a5bf",
   "metadata": {},
   "outputs": [],
   "source": [
    "def get_movie_gross(data):\n",
    "    movie_gross_temp = data.find_all('p',{'class':\"sort-num_votes-visible\"})\n",
    "    movie_gross = []\n",
    "    for detail_tag in movie_gross_temp:\n",
    "        gross_tag = []\n",
    "        gross_temp_tag = detail_tag.find_all('span',{'name':'nv'})\n",
    "        for temp_tag in gross_temp_tag:\n",
    "            gross_tag.append(temp_tag.text)\n",
    "        if len(gross_tag) >=2 :\n",
    "            movie_gross.append(gross_tag[1])\n",
    "        else:\n",
    "            movie_gross.append('NA')\n",
    "    return movie_gross"
   ]
  },
  {
   "cell_type": "code",
   "execution_count": 24,
   "id": "652f04b3",
   "metadata": {},
   "outputs": [],
   "source": [
    "def get_movie_votes(data):\n",
    "    movie_votes_temp = data.find_all('p',{'class':\"sort-num_votes-visible\"})\n",
    "    movie_votes = []\n",
    "    for detail_tag in movie_votes_temp:\n",
    "        votes_tag = detail_tag.find_all('span',{'name':'nv'})\n",
    "        if votes_tag:\n",
    "            movie_votes.append(votes_tag[0].text)\n",
    "        else:\n",
    "            movie_votes.append('NA')\n",
    "    return movie_votes"
   ]
  },
  {
   "cell_type": "code",
   "execution_count": 25,
   "id": "cc24db59",
   "metadata": {},
   "outputs": [],
   "source": [
    "def get_data_from_imdb():\n",
    "    global film_budget\n",
    "    complete_data = {\n",
    "        'title' :[],\n",
    "        'genre' :[],\n",
    "        'duration' :[],\n",
    "        'rating' :[],\n",
    "        'year' :[],\n",
    "        'director' :[],\n",
    "        'major cast' :[],\n",
    "        '2nd major cast' :[],\n",
    "        'certification' :[],\n",
    "        'gross' :[],\n",
    "        'votes' :[],\n",
    "        'link' :[],\n",
    "        'budget' :[]\n",
    "    }\n",
    "    for i in range(1,2000,100):\n",
    "        try:\n",
    "            url = 'https://www.imdb.com/search/title/?groups=top_1000&sort=user_rating,desc&count=100&start='+str(i)+'&ref_=adv_next'\n",
    "            response = requests.get(url)\n",
    "        except:\n",
    "            break\n",
    "        if response.status_code != 200:\n",
    "            break\n",
    "        data = BeautifulSoup(response.text,'html.parser')\n",
    "        \n",
    "        movie_title,movie_link = get_movie_titles(data)\n",
    "        movie_genre = get_movie_genre(data)\n",
    "        movie_duration = get_movie_duration(data)\n",
    "        movie_rating = get_movie_rating(data)\n",
    "        movie_year = get_movie_year(data)\n",
    "        movie_cast = get_movie_cast(data)\n",
    "        movie_certification = get_movie_certification(data)\n",
    "        movie_gross = get_movie_gross(data)\n",
    "        movie_votes = get_movie_votes(data)\n",
    "        \n",
    "        for i in range(len(movie_title)):\n",
    "            complete_data['title'].append(str(movie_title[i]))\n",
    "            complete_data['year'].append(int(movie_year[i]))\n",
    "            complete_data['duration'].append(int(movie_duration[i]))\n",
    "            complete_data['genre'].append(movie_genre[i])\n",
    "            complete_data['certification'].append(str(movie_certification[i]))\n",
    "            complete_data['rating'].append(float(movie_rating[i]))\n",
    "            complete_data['gross'].append(movie_gross[i])\n",
    "            complete_data['votes'].append(movie_votes[i])\n",
    "            complete_data['director'].append(str(movie_cast[i][0]))\n",
    "            complete_data['major cast'].append(str(movie_cast[i][1]))\n",
    "            complete_data['2nd major cast'].append(str(movie_cast[i][2]))\n",
    "            complete_data['link'].append(movie_link[i])\n",
    "    \n",
    "    response.close()\n",
    "    '''thread_list = []'''\n",
    "    for i in range(len(complete_data['link'])):\n",
    "        if complete_data['link'][i] is None:\n",
    "            continue\n",
    "        else:\n",
    "            get_movie_budget(str(complete_data['link'][i]),i)\n",
    "            '''th = threading.Thread(target=get_movie_budget,args=(str(complete_data['link'][i]),i))'''\n",
    "            '''thread_list.append(th)\n",
    "            th.start()\n",
    "        if(len(thread_list)>8):\n",
    "            for th in thread_list:\n",
    "                th.join()\n",
    "    \n",
    "    for th in thread_list:\n",
    "        th.join()'''\n",
    "        \n",
    "    complete_data['budget'] = film_budget\n",
    "    return complete_data"
   ]
  },
  {
   "cell_type": "code",
   "execution_count": 26,
   "id": "38e16c1f",
   "metadata": {
    "scrolled": true,
    "tags": []
   },
   "outputs": [
    {
     "ename": "IndexError",
     "evalue": "list index out of range",
     "output_type": "error",
     "traceback": [
      "\u001b[1;31m---------------------------------------------------------------------------\u001b[0m",
      "\u001b[1;31mIndexError\u001b[0m                                Traceback (most recent call last)",
      "Input \u001b[1;32mIn [26]\u001b[0m, in \u001b[0;36m<cell line: 1>\u001b[1;34m()\u001b[0m\n\u001b[1;32m----> 1\u001b[0m data \u001b[38;5;241m=\u001b[39m \u001b[43mget_data_from_imdb\u001b[49m\u001b[43m(\u001b[49m\u001b[43m)\u001b[49m\n\u001b[0;32m      2\u001b[0m df \u001b[38;5;241m=\u001b[39m pd\u001b[38;5;241m.\u001b[39mDataFrame(data)\n",
      "Input \u001b[1;32mIn [25]\u001b[0m, in \u001b[0;36mget_data_from_imdb\u001b[1;34m()\u001b[0m\n\u001b[0;32m     56\u001b[0m         \u001b[38;5;28;01mcontinue\u001b[39;00m\n\u001b[0;32m     57\u001b[0m     \u001b[38;5;28;01melse\u001b[39;00m:\n\u001b[1;32m---> 58\u001b[0m         \u001b[43mget_movie_budget\u001b[49m\u001b[43m(\u001b[49m\u001b[38;5;28;43mstr\u001b[39;49m\u001b[43m(\u001b[49m\u001b[43mcomplete_data\u001b[49m\u001b[43m[\u001b[49m\u001b[38;5;124;43m'\u001b[39;49m\u001b[38;5;124;43mlink\u001b[39;49m\u001b[38;5;124;43m'\u001b[39;49m\u001b[43m]\u001b[49m\u001b[43m[\u001b[49m\u001b[43mi\u001b[49m\u001b[43m]\u001b[49m\u001b[43m)\u001b[49m\u001b[43m,\u001b[49m\u001b[43mi\u001b[49m\u001b[43m)\u001b[49m\n\u001b[0;32m     59\u001b[0m         \u001b[38;5;124;03m'''th = threading.Thread(target=get_movie_budget,args=(str(complete_data['link'][i]),i))'''\u001b[39;00m\n\u001b[0;32m     60\u001b[0m         \u001b[38;5;124;03m'''thread_list.append(th)\u001b[39;00m\n\u001b[0;32m     61\u001b[0m \u001b[38;5;124;03m        th.start()\u001b[39;00m\n\u001b[0;32m     62\u001b[0m \u001b[38;5;124;03m    if(len(thread_list)>8):\u001b[39;00m\n\u001b[1;32m   (...)\u001b[0m\n\u001b[0;32m     66\u001b[0m \u001b[38;5;124;03mfor th in thread_list:\u001b[39;00m\n\u001b[0;32m     67\u001b[0m \u001b[38;5;124;03m    th.join()'''\u001b[39;00m\n",
      "Input \u001b[1;32mIn [15]\u001b[0m, in \u001b[0;36mget_movie_budget\u001b[1;34m(url, i)\u001b[0m\n\u001b[0;32m      8\u001b[0m     budget \u001b[38;5;241m=\u001b[39m budget\u001b[38;5;241m.\u001b[39mfind_all(\u001b[38;5;124m'\u001b[39m\u001b[38;5;124mspan\u001b[39m\u001b[38;5;124m'\u001b[39m,{\u001b[38;5;124m'\u001b[39m\u001b[38;5;124mclass\u001b[39m\u001b[38;5;124m'\u001b[39m:\u001b[38;5;124m'\u001b[39m\u001b[38;5;124mipc-metadata-list-item__list-content-item\u001b[39m\u001b[38;5;124m'\u001b[39m})\n\u001b[0;32m      9\u001b[0m     \u001b[38;5;28;01mif\u001b[39;00m budget \u001b[38;5;129;01mis\u001b[39;00m \u001b[38;5;129;01mnot\u001b[39;00m \u001b[38;5;28;01mNone\u001b[39;00m:\n\u001b[1;32m---> 10\u001b[0m         film_budget[i] \u001b[38;5;241m=\u001b[39m \u001b[43mbudget\u001b[49m\u001b[43m[\u001b[49m\u001b[38;5;241;43m0\u001b[39;49m\u001b[43m]\u001b[49m\u001b[38;5;241m.\u001b[39mtext\u001b[38;5;241m.\u001b[39msplit(\u001b[38;5;124m'\u001b[39m\u001b[38;5;124m \u001b[39m\u001b[38;5;124m'\u001b[39m)[\u001b[38;5;241m0\u001b[39m]\n\u001b[0;32m     11\u001b[0m response\u001b[38;5;241m.\u001b[39mclose()\n",
      "\u001b[1;31mIndexError\u001b[0m: list index out of range"
     ]
    }
   ],
   "source": [
    "data = get_data_from_imdb()\n",
    "df = pd.DataFrame(data)\n",
    "#Final Column without NA and #Num values"
   ]
  },
  {
   "cell_type": "code",
   "execution_count": null,
   "id": "c66250da",
   "metadata": {},
   "outputs": [],
   "source": [
    "df"
   ]
  },
  {
   "cell_type": "code",
   "execution_count": null,
   "id": "99286d0f-b094-4749-be3c-4a61ba0a9fae",
   "metadata": {},
   "outputs": [],
   "source": [
    "df.info()"
   ]
  },
  {
   "cell_type": "code",
   "execution_count": null,
   "id": "238c1a68",
   "metadata": {},
   "outputs": [],
   "source": [
    "df = df[df['gross']!='NA']\n",
    "df = df[~df.gross.str.match('\\#')]\n",
    "df = df[df.budget.str.match('\\$')]"
   ]
  },
  {
   "cell_type": "code",
   "execution_count": null,
   "id": "11356e8b",
   "metadata": {},
   "outputs": [],
   "source": [
    "df['budget'] = df['budget'].str[1:]"
   ]
  },
  {
   "cell_type": "code",
   "execution_count": null,
   "id": "b57a8cef",
   "metadata": {},
   "outputs": [],
   "source": [
    "df.describe()"
   ]
  },
  {
   "cell_type": "code",
   "execution_count": null,
   "id": "dfa143ab",
   "metadata": {},
   "outputs": [],
   "source": [
    "df.info()"
   ]
  },
  {
   "cell_type": "code",
   "execution_count": null,
   "id": "1aecbc9a-1c93-40d8-afa4-aab32048109a",
   "metadata": {},
   "outputs": [],
   "source": [
    "df"
   ]
  },
  {
   "cell_type": "code",
   "execution_count": null,
   "id": "949b5fb7-ab93-4821-bbc9-469399c2be14",
   "metadata": {},
   "outputs": [],
   "source": [
    "df['budget'] = df['budget'].str.replace(',','')\n",
    "df['budget'] = df['budget'].apply(pd.to_numeric)"
   ]
  },
  {
   "cell_type": "code",
   "execution_count": null,
   "id": "e8cda5f2-081a-496f-acec-81e23195d613",
   "metadata": {},
   "outputs": [],
   "source": [
    "df.info()"
   ]
  },
  {
   "cell_type": "code",
   "execution_count": null,
   "id": "de2f470f-8b73-47dc-b741-ad653d7da437",
   "metadata": {},
   "outputs": [],
   "source": [
    "df"
   ]
  },
  {
   "cell_type": "code",
   "execution_count": null,
   "id": "3c0d3c53-16ed-4be2-9018-bbdb20d70b16",
   "metadata": {},
   "outputs": [],
   "source": [
    "df.to_csv('data.csv')"
   ]
  },
  {
   "cell_type": "code",
   "execution_count": null,
   "id": "5570db0b-198a-4b1f-a4f0-1963097dad47",
   "metadata": {},
   "outputs": [],
   "source": [
    "df.describe()"
   ]
  },
  {
   "cell_type": "code",
   "execution_count": null,
   "id": "ed42d3bf-7c95-4433-aaee-518051069ceb",
   "metadata": {},
   "outputs": [],
   "source": []
  }
 ],
 "metadata": {
  "kernelspec": {
   "display_name": "Python 3 (ipykernel)",
   "language": "python",
   "name": "python3"
  },
  "language_info": {
   "codemirror_mode": {
    "name": "ipython",
    "version": 3
   },
   "file_extension": ".py",
   "mimetype": "text/x-python",
   "name": "python",
   "nbconvert_exporter": "python",
   "pygments_lexer": "ipython3",
   "version": "3.9.12"
  }
 },
 "nbformat": 4,
 "nbformat_minor": 5
}
